{
 "cells": [
  {
   "cell_type": "code",
   "execution_count": 8,
   "metadata": {
    "scrolled": false
   },
   "outputs": [
    {
     "name": "stdout",
     "output_type": "stream",
     "text": [
      "Conteúdo da tabela: CATEGORIA\n",
      "                 0                        1     2\n",
      "0         perdigao                alimentos   600\n",
      "1             luxo  materiais de construcao  7000\n",
      "2            seara                alimentos   600\n",
      "3  custo beneficio                  mobilia   700\n",
      "4             luxo                  mobilia   250\n",
      "5  custo beneficio  materiais de construcao  9000\n",
      "A conexão com o PostgreSQL foi fechada!\n"
     ]
    }
   ],
   "source": [
    "import psycopg2\n",
    "import pandas as pd\n",
    "\n",
    "connection = psycopg2.connect(\n",
    "    host=\"localhost\",\n",
    "    database=\"statistc\",\n",
    "    user=\"postgres\",\n",
    "    password=\"1234\"\n",
    ")\n",
    "try:\n",
    "    cursor = connection.cursor()\n",
    "    postgreSQL_select_Query ='''WITH qtd_venda AS (\n",
    "\tSELECT\n",
    "\t\tp.nome AS produto,\n",
    "\t\tp.preco AS preco,\n",
    "\t\tm.nome AS marca,\n",
    "\t\tc.nome AS categoria,\n",
    "\t\t(SELECT COUNT(*)\n",
    "\t\t\t FROM venda v\n",
    "\t\t\t WHERE m.id_marca = p.id_marca\n",
    "\t\t\t AND c.id_categoria = p.id_categoria\n",
    "\t\t\t AND v.id_produto = p.id_produto\n",
    "\t\t\t AND v.ano = 2023\n",
    "\t\t\t AND v.quantidade > 200\n",
    "\t\t\t AND p.preco > 10\n",
    "\t\t\tGROUP BY GROUPING SETS((m.id_marca, p.id_marca, c.id_categoria, v.id_venda))\n",
    "\t\t) AS quantidade_venda\n",
    "\tFROM produto p, marca m, categoria c\n",
    "    )\n",
    "    SELECT\n",
    "        produto,\n",
    "        preco,\n",
    "        marca,\n",
    "        categoria,\n",
    "        CASE\n",
    "            WHEN quantidade_venda IS NULL THEN 0\n",
    "            ELSE quantidade_venda\n",
    "        END quantidade_venda\n",
    "    FROM qtd_venda'''\n",
    "\n",
    "    cursor.execute(postgreSQL_select_Query)\n",
    "    print(\"Conteúdo da tabela: CATEGORIA\")\n",
    "    records = cursor.fetchall()\n",
    "    df = pd.DataFrame(records)\n",
    "    print(df)\n",
    "except (Exception, psycopg2.Error) as error:\n",
    "    print(\"Erro ao conectar com o PostgreSQL: {}\".format(error))\n",
    "finally:\n",
    "    if connection:\n",
    "        cursor.close()\n",
    "        connection.close()\n",
    "        print('A conexão com o PostgreSQL foi fechada!')\n",
    "\n",
    "    \n"
   ]
  }
 ],
 "metadata": {
  "kernelspec": {
   "display_name": "Python 3 (ipykernel)",
   "language": "python",
   "name": "python3"
  },
  "language_info": {
   "codemirror_mode": {
    "name": "ipython",
    "version": 3
   },
   "file_extension": ".py",
   "mimetype": "text/x-python",
   "name": "python",
   "nbconvert_exporter": "python",
   "pygments_lexer": "ipython3",
   "version": "3.9.16"
  }
 },
 "nbformat": 4,
 "nbformat_minor": 4
}
